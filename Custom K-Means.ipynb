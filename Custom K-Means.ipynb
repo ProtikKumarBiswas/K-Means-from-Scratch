{
 "cells": [
  {
   "cell_type": "code",
   "execution_count": 9,
   "metadata": {},
   "outputs": [
    {
     "name": "stdout",
     "output_type": "stream",
     "text": [
      "5\n",
      "4\n",
      "2\n"
     ]
    }
   ],
   "source": [
    "x = int(input())\n",
    "y = int(input())\n",
    "\n",
    "z = int(input())"
   ]
  },
  {
   "cell_type": "code",
   "execution_count": 10,
   "metadata": {},
   "outputs": [
    {
     "data": {
      "text/plain": [
       "5"
      ]
     },
     "execution_count": 10,
     "metadata": {},
     "output_type": "execute_result"
    }
   ],
   "source": [
    "(x if x > y else y) if (x if x > y else y) > z else z"
   ]
  },
  {
   "cell_type": "code",
   "execution_count": 3,
   "metadata": {},
   "outputs": [
    {
     "name": "stdout",
     "output_type": "stream",
     "text": [
      "3\n"
     ]
    }
   ],
   "source": [
    "y = input()"
   ]
  },
  {
   "cell_type": "code",
   "execution_count": 4,
   "metadata": {},
   "outputs": [],
   "source": [
    "x = x if x > y else y"
   ]
  },
  {
   "cell_type": "code",
   "execution_count": 5,
   "metadata": {},
   "outputs": [
    {
     "data": {
      "text/plain": [
       "'3'"
      ]
     },
     "execution_count": 5,
     "metadata": {},
     "output_type": "execute_result"
    }
   ],
   "source": [
    "x"
   ]
  },
  {
   "cell_type": "markdown",
   "metadata": {},
   "source": [
    "## Importing Required Libraries"
   ]
  },
  {
   "cell_type": "code",
   "execution_count": 2,
   "metadata": {},
   "outputs": [],
   "source": [
    "import matplotlib.pyplot as plt\n",
    "from sklearn import datasets\n",
    "from random import sample, randrange, uniform\n",
    "import numpy as np"
   ]
  },
  {
   "cell_type": "markdown",
   "metadata": {},
   "source": [
    "## Loading MNIST Dataset"
   ]
  },
  {
   "cell_type": "code",
   "execution_count": 3,
   "metadata": {},
   "outputs": [],
   "source": [
    "MNIST = datasets.load_digits()"
   ]
  },
  {
   "cell_type": "code",
   "execution_count": 4,
   "metadata": {},
   "outputs": [
    {
     "data": {
      "text/plain": [
       "{'data': array([[ 0.,  0.,  5., ...,  0.,  0.,  0.],\n",
       "        [ 0.,  0.,  0., ..., 10.,  0.,  0.],\n",
       "        [ 0.,  0.,  0., ..., 16.,  9.,  0.],\n",
       "        ...,\n",
       "        [ 0.,  0.,  1., ...,  6.,  0.,  0.],\n",
       "        [ 0.,  0.,  2., ..., 12.,  0.,  0.],\n",
       "        [ 0.,  0., 10., ..., 12.,  1.,  0.]]),\n",
       " 'target': array([0, 1, 2, ..., 8, 9, 8]),\n",
       " 'target_names': array([0, 1, 2, 3, 4, 5, 6, 7, 8, 9]),\n",
       " 'images': array([[[ 0.,  0.,  5., ...,  1.,  0.,  0.],\n",
       "         [ 0.,  0., 13., ..., 15.,  5.,  0.],\n",
       "         [ 0.,  3., 15., ..., 11.,  8.,  0.],\n",
       "         ...,\n",
       "         [ 0.,  4., 11., ..., 12.,  7.,  0.],\n",
       "         [ 0.,  2., 14., ..., 12.,  0.,  0.],\n",
       "         [ 0.,  0.,  6., ...,  0.,  0.,  0.]],\n",
       " \n",
       "        [[ 0.,  0.,  0., ...,  5.,  0.,  0.],\n",
       "         [ 0.,  0.,  0., ...,  9.,  0.,  0.],\n",
       "         [ 0.,  0.,  3., ...,  6.,  0.,  0.],\n",
       "         ...,\n",
       "         [ 0.,  0.,  1., ...,  6.,  0.,  0.],\n",
       "         [ 0.,  0.,  1., ...,  6.,  0.,  0.],\n",
       "         [ 0.,  0.,  0., ..., 10.,  0.,  0.]],\n",
       " \n",
       "        [[ 0.,  0.,  0., ..., 12.,  0.,  0.],\n",
       "         [ 0.,  0.,  3., ..., 14.,  0.,  0.],\n",
       "         [ 0.,  0.,  8., ..., 16.,  0.,  0.],\n",
       "         ...,\n",
       "         [ 0.,  9., 16., ...,  0.,  0.,  0.],\n",
       "         [ 0.,  3., 13., ..., 11.,  5.,  0.],\n",
       "         [ 0.,  0.,  0., ..., 16.,  9.,  0.]],\n",
       " \n",
       "        ...,\n",
       " \n",
       "        [[ 0.,  0.,  1., ...,  1.,  0.,  0.],\n",
       "         [ 0.,  0., 13., ...,  2.,  1.,  0.],\n",
       "         [ 0.,  0., 16., ..., 16.,  5.,  0.],\n",
       "         ...,\n",
       "         [ 0.,  0., 16., ..., 15.,  0.,  0.],\n",
       "         [ 0.,  0., 15., ..., 16.,  0.,  0.],\n",
       "         [ 0.,  0.,  2., ...,  6.,  0.,  0.]],\n",
       " \n",
       "        [[ 0.,  0.,  2., ...,  0.,  0.,  0.],\n",
       "         [ 0.,  0., 14., ..., 15.,  1.,  0.],\n",
       "         [ 0.,  4., 16., ..., 16.,  7.,  0.],\n",
       "         ...,\n",
       "         [ 0.,  0.,  0., ..., 16.,  2.,  0.],\n",
       "         [ 0.,  0.,  4., ..., 16.,  2.,  0.],\n",
       "         [ 0.,  0.,  5., ..., 12.,  0.,  0.]],\n",
       " \n",
       "        [[ 0.,  0., 10., ...,  1.,  0.,  0.],\n",
       "         [ 0.,  2., 16., ...,  1.,  0.,  0.],\n",
       "         [ 0.,  0., 15., ..., 15.,  0.,  0.],\n",
       "         ...,\n",
       "         [ 0.,  4., 16., ..., 16.,  6.,  0.],\n",
       "         [ 0.,  8., 16., ..., 16.,  8.,  0.],\n",
       "         [ 0.,  1.,  8., ..., 12.,  1.,  0.]]]),\n",
       " 'DESCR': \".. _digits_dataset:\\n\\nOptical recognition of handwritten digits dataset\\n--------------------------------------------------\\n\\n**Data Set Characteristics:**\\n\\n    :Number of Instances: 5620\\n    :Number of Attributes: 64\\n    :Attribute Information: 8x8 image of integer pixels in the range 0..16.\\n    :Missing Attribute Values: None\\n    :Creator: E. Alpaydin (alpaydin '@' boun.edu.tr)\\n    :Date: July; 1998\\n\\nThis is a copy of the test set of the UCI ML hand-written digits datasets\\nhttps://archive.ics.uci.edu/ml/datasets/Optical+Recognition+of+Handwritten+Digits\\n\\nThe data set contains images of hand-written digits: 10 classes where\\neach class refers to a digit.\\n\\nPreprocessing programs made available by NIST were used to extract\\nnormalized bitmaps of handwritten digits from a preprinted form. From a\\ntotal of 43 people, 30 contributed to the training set and different 13\\nto the test set. 32x32 bitmaps are divided into nonoverlapping blocks of\\n4x4 and the number of on pixels are counted in each block. This generates\\nan input matrix of 8x8 where each element is an integer in the range\\n0..16. This reduces dimensionality and gives invariance to small\\ndistortions.\\n\\nFor info on NIST preprocessing routines, see M. D. Garris, J. L. Blue, G.\\nT. Candela, D. L. Dimmick, J. Geist, P. J. Grother, S. A. Janet, and C.\\nL. Wilson, NIST Form-Based Handprint Recognition System, NISTIR 5469,\\n1994.\\n\\n.. topic:: References\\n\\n  - C. Kaynak (1995) Methods of Combining Multiple Classifiers and Their\\n    Applications to Handwritten Digit Recognition, MSc Thesis, Institute of\\n    Graduate Studies in Science and Engineering, Bogazici University.\\n  - E. Alpaydin, C. Kaynak (1998) Cascading Classifiers, Kybernetika.\\n  - Ken Tang and Ponnuthurai N. Suganthan and Xi Yao and A. Kai Qin.\\n    Linear dimensionalityreduction using relevance weighted LDA. School of\\n    Electrical and Electronic Engineering Nanyang Technological University.\\n    2005.\\n  - Claudio Gentile. A New Approximate Maximal Margin Classification\\n    Algorithm. NIPS. 2000.\"}"
      ]
     },
     "execution_count": 4,
     "metadata": {},
     "output_type": "execute_result"
    }
   ],
   "source": [
    "MNIST"
   ]
  },
  {
   "cell_type": "code",
   "execution_count": 5,
   "metadata": {},
   "outputs": [
    {
     "data": {
      "text/plain": [
       "(1797,)"
      ]
     },
     "execution_count": 5,
     "metadata": {},
     "output_type": "execute_result"
    }
   ],
   "source": [
    "y = MNIST['target']\n",
    "y.shape"
   ]
  },
  {
   "cell_type": "code",
   "execution_count": 6,
   "metadata": {},
   "outputs": [
    {
     "data": {
      "text/plain": [
       "(1797, 8, 8)"
      ]
     },
     "execution_count": 6,
     "metadata": {},
     "output_type": "execute_result"
    }
   ],
   "source": [
    "images = MNIST['images']\n",
    "images.shape"
   ]
  },
  {
   "cell_type": "code",
   "execution_count": 7,
   "metadata": {},
   "outputs": [
    {
     "data": {
      "text/plain": [
       "(1797, 64)"
      ]
     },
     "execution_count": 7,
     "metadata": {},
     "output_type": "execute_result"
    }
   ],
   "source": [
    "X = MNIST['data']\n",
    "X.shape"
   ]
  },
  {
   "cell_type": "code",
   "execution_count": 8,
   "metadata": {},
   "outputs": [
    {
     "name": "stdout",
     "output_type": "stream",
     "text": [
      "Expected Digit :  7\n"
     ]
    },
    {
     "data": {
      "image/png": "[encoded data removed]",
      "text/plain": [
       "<Figure size 432x288 with 1 Axes>"
      ]
     },
     "metadata": {
      "needs_background": "light"
     },
     "output_type": "display_data"
    }
   ],
   "source": [
    "#Selecting a random index everytime\n",
    "idx = randrange(0, y.shape[0]+1)\n",
    "\n",
    "plt.imshow(images[idx], cmap = plt.cm.gray_r, interpolation='nearest')\n",
    "print(\"Expected Digit : \", y[idx])\n",
    "plt.show()"
   ]
  },
  {
   "cell_type": "markdown",
   "metadata": {},
   "source": [
    "## K-Means Clusting Class"
   ]
  },
  {
   "cell_type": "code",
   "execution_count": 9,
   "metadata": {},
   "outputs": [],
   "source": [
    "class K_Means:\n",
    "    \n",
    "    def __init__(self, k=2, tol=.0001, max_iter=300):\n",
    "        self.k = k\n",
    "        self.tol = tol\n",
    "        self.max_iter = max_iter\n",
    "        \n",
    "    def fit(self, data):\n",
    "        \n",
    "        # 1. Random Initialization of Centroid\n",
    "        self.centroids = {}\n",
    "        c_idx = 0\n",
    "        for i in sample(range(0, data.shape[0]), self.k):\n",
    "            self.centroids[c_idx] = data[i]\n",
    "            c_idx += 1\n",
    "        \n",
    "        for itr in range(self.max_iter):\n",
    "            \n",
    "            # 2. Assigning a class to all the data points according to the selected centroids\n",
    "            self.classifications = {}\n",
    "            \n",
    "            for i in range(self.k):\n",
    "                self.classifications[i] = []\n",
    "            \n",
    "            for d_point in data:\n",
    "                #using Euclidean / Frobenius norm of vector to calculate distance\n",
    "                dist = [np.linalg.norm(d_point - self.centroids[centroid_idx]) for centroid_idx in self.centroids]\n",
    "                class_ = np.argmin(dist)\n",
    "                #print(dist)\n",
    "                self.classifications[class_].append(d_point)\n",
    "            \n",
    "            \n",
    "            # 3. Recomputing / updating the centroids\n",
    "            old_centroids = self.centroids.copy() #First lets save the previous k centroids\n",
    "            #print(old_centroids, self.centroids, \"old\")\n",
    "            \n",
    "            for class_ in self.classifications:\n",
    "                #print(self.classifications, self.centroids)\n",
    "                self.centroids[class_] = np.average(self.classifications[class_], axis = 0)\n",
    "                #print(old_centroids, self.centroids, \"up\")\n",
    "            \n",
    "            # 4. Check for convergence\n",
    "            optimal = True\n",
    "\n",
    "            for c_idx in self.centroids:\n",
    "                \n",
    "                old_centroid = old_centroids[c_idx]\n",
    "                updated_centroid = self.centroids[c_idx]\n",
    "                \n",
    "                if(np.linalg.norm(old_centroid - updated_centroid) > self.tol):\n",
    "                #if(np.sum((updated_centroid - old_centroid) / old_centroid*100) > self.tol):\n",
    "                    optimal = False\n",
    "                    \n",
    "            #print(optimal, 'X', itr)\n",
    "            if optimal == True:\n",
    "                #print(old_centroids, self.centroids)\n",
    "                self.centroids = old_centroids\n",
    "                break\n",
    "\n",
    "    def predict(self, data):\n",
    "        #using Euclidean / Frobenius norm of vector to calculate distance\n",
    "        dist = [np.linalg.norm(data - self.centroids[centroid_idx]) for centroid_idx in self.centroids]\n",
    "        class_ = np.argmin(dist)\n",
    "        \n",
    "        return class_"
   ]
  },
  {
   "cell_type": "markdown",
   "metadata": {},
   "source": [
    "## Testing our model on a small test dataset with only 2 features for visualization and testing"
   ]
  },
  {
   "cell_type": "code",
   "execution_count": 10,
   "metadata": {},
   "outputs": [
    {
     "data": {
      "image/png": "[encoded data removed]",
      "text/plain": [
       "<Figure size 432x288 with 1 Axes>"
      ]
     },
     "metadata": {
      "needs_background": "light"
     },
     "output_type": "display_data"
    },
    {
     "name": "stdout",
     "output_type": "stream",
     "text": [
      "[[ 4.56  0.09]\n",
      " [10.54 10.12]\n",
      " [15.16 15.44]\n",
      " [ 0.17  1.51]\n",
      " [11.08  9.6 ]\n",
      " [16.03 15.37]\n",
      " [ 0.53  3.87]\n",
      " [ 6.46  7.44]\n",
      " [16.25 15.72]\n",
      " [ 3.91  0.17]\n",
      " [ 7.96  8.88]\n",
      " [15.79 15.49]\n",
      " [ 2.32  4.22]\n",
      " [ 9.63  7.92]\n",
      " [15.38 15.97]]\n"
     ]
    }
   ],
   "source": [
    "#Creating a random dataset with two set of clusters\n",
    "\n",
    "n_points = 15\n",
    "n_features = 2\n",
    "n_clusters = 3\n",
    "\n",
    "test_X = np.zeros((n_points, n_features))\n",
    "\n",
    "\n",
    "low_limit = [0, 5]#lower cluster limits\n",
    "up_limit = [6, 13]#upper cluster limits\n",
    "_limit = [15, 17]\n",
    "limits = [low_limit, up_limit, _limit]\n",
    "\n",
    "clust_switch = 0\n",
    "for n_p in range(n_points):\n",
    "    point = []\n",
    "    for n_f in range(n_features):\n",
    "        point.append(round(uniform(limits[clust_switch][0], limits[clust_switch][1]), 2))\n",
    "    \n",
    "    clust_switch += 1\n",
    "    if clust_switch >= n_clusters:\n",
    "        clust_switch = 0\n",
    "    \n",
    "    test_X[n_p] = point\n",
    "\n",
    "    \n",
    "    \n",
    "\n",
    "plt.scatter(test_X[:,0], test_X[:,1], s=150)\n",
    "plt.show()\n",
    "\n",
    "print(test_X)\n",
    "\n",
    "colors = [\"g\",\"r\",\"c\",\"b\",\"k\"]"
   ]
  },
  {
   "cell_type": "code",
   "execution_count": 13,
   "metadata": {},
   "outputs": [],
   "source": [
    "clf = K_Means(k=3)\n",
    "clf.fit(test_X)"
   ]
  },
  {
   "cell_type": "code",
   "execution_count": 14,
   "metadata": {},
   "outputs": [
    {
     "name": "stdout",
     "output_type": "stream",
     "text": [
      "[15.16 15.44]\n",
      "[16.03 15.37]\n",
      "[16.25 15.72]\n",
      "[15.79 15.49]\n",
      "[15.38 15.97]\n",
      "[4.56 0.09]\n",
      "[0.17 1.51]\n",
      "[0.53 3.87]\n",
      "[3.91 0.17]\n",
      "[2.32 4.22]\n",
      "[10.54 10.12]\n",
      "[11.08  9.6 ]\n",
      "[6.46 7.44]\n",
      "[7.96 8.88]\n",
      "[9.63 7.92]\n"
     ]
    },
    {
     "data": {
      "image/png": "[encoded data removed]",
      "text/plain": [
       "<Figure size 432x288 with 1 Axes>"
      ]
     },
     "metadata": {
      "needs_background": "light"
     },
     "output_type": "display_data"
    }
   ],
   "source": [
    "colors = ['r', 'g', 'b', 'c','m','y', 'w']\n",
    "\n",
    "for class_ in clf.classifications:\n",
    "    for point in clf.classifications[class_]:\n",
    "        print(point)\n",
    "        plt.scatter(point[0], point[1], color = colors[class_],  marker = 'o')\n",
    "\n",
    "for c_idx in clf.centroids:\n",
    "    plt.scatter(clf.centroids[c_idx][0], clf.centroids[c_idx][1], marker = 'x', color = 'black')"
   ]
  },
  {
   "cell_type": "code",
   "execution_count": 15,
   "metadata": {},
   "outputs": [
    {
     "data": {
      "text/plain": [
       "1"
      ]
     },
     "execution_count": 15,
     "metadata": {},
     "output_type": "execute_result"
    }
   ],
   "source": [
    "clf.predict(np.array([5.5,5.5]))"
   ]
  },
  {
   "cell_type": "markdown",
   "metadata": {},
   "source": [
    "## Using our model for MNIST Dataset"
   ]
  },
  {
   "cell_type": "code",
   "execution_count": 20,
   "metadata": {},
   "outputs": [],
   "source": [
    "X_classified = {}\n",
    "for x in range(10):\n",
    "    c_idx = [i for i in range(len(y)) if y[i] == x]\n",
    "    X_classified[x] = X[c_idx]      \n",
    "        "
   ]
  },
  {
   "cell_type": "markdown",
   "metadata": {},
   "source": [
    "#### Spilting out original dataset according to thier classes"
   ]
  },
  {
   "cell_type": "code",
   "execution_count": 24,
   "metadata": {},
   "outputs": [
    {
     "data": {
      "text/plain": [
       "180"
      ]
     },
     "execution_count": 24,
     "metadata": {},
     "output_type": "execute_result"
    }
   ],
   "source": [
    "X_classified[9][i for i in range(len(y)) if y[i] == x]"
   ]
  },
  {
   "cell_type": "code",
   "execution_count": 30,
   "metadata": {},
   "outputs": [
    {
     "name": "stdout",
     "output_type": "stream",
     "text": [
      "{0: [9, 9, 9, 9, 9, 9, 9, 9, 9, 9, 9, 9, 9, 9, 9, 9, 9, 9, 9, 9, 9, 9, 9, 9, 9, 9, 9, 9, 9, 9, 9, 9, 9, 9, 9, 9, 9, 9, 9, 9, 9, 9, 9, 9, 9, 9, 9, 9, 9, 9, 9, 9, 9, 9, 9, 9, 9, 9, 9, 9, 9, 9, 9, 9, 9, 9, 9, 9, 9, 9, 9, 9, 2, 9, 9, 9, 9, 9, 9, 9, 9, 9, 9, 9, 9, 9, 9, 9, 9, 9, 9, 9, 9, 9, 9, 9, 9, 9, 9, 9, 9, 9, 9, 9, 9, 9, 9, 9, 9, 9, 9, 9, 9, 9, 9, 9, 9, 9, 9, 9, 9, 9, 9, 9, 9, 9, 9, 9, 9, 9, 9, 9, 9, 9, 9, 9, 9, 9, 9, 9, 9, 9, 9, 9, 9, 9, 9, 9, 9, 9, 9, 9, 9, 9, 9, 9, 2, 9, 9, 9, 9, 9, 9, 9, 9, 9, 9, 9, 9, 9, 9, 9, 9, 9, 9, 9, 9, 9], 1: [6, 2, 2, 2, 2, 2, 2, 6, 6, 2, 6, 6, 2, 2, 2, 2, 2, 2, 2, 2, 2, 2, 2, 2, 2, 2, 6, 6, 6, 6, 6, 2, 6, 6, 6, 6, 6, 6, 6, 8, 6, 2, 2, 2, 5, 2, 6, 6, 2, 6, 2, 2, 5, 5, 5, 5, 3, 5, 3, 5, 5, 5, 5, 6, 5, 6, 6, 6, 6, 6, 6, 6, 6, 6, 6, 6, 6, 6, 6, 6, 6, 6, 6, 5, 6, 6, 6, 6, 6, 6, 6, 5, 5, 5, 5, 5, 5, 5, 5, 5, 5, 5, 5, 5, 6, 6, 6, 6, 6, 6, 6, 6, 6, 6, 6, 6, 6, 6, 2, 6, 6, 6, 6, 6, 6, 6, 6, 6, 6, 1, 8, 6, 2, 6, 6, 2, 6, 2, 6, 6, 6, 6, 6, 8, 8, 2, 4, 4, 8, 8, 4, 8, 2, 8, 4, 8, 6, 6, 6, 6, 6, 6, 6, 6, 6, 6, 6, 6, 6, 6, 6, 6, 6, 6, 6, 6, 6, 6, 6, 6, 6, 6], 2: [6, 5, 5, 6, 6, 0, 6, 6, 2, 5, 5, 6, 6, 5, 5, 5, 5, 5, 5, 5, 8, 5, 5, 5, 5, 5, 5, 5, 5, 5, 5, 5, 5, 5, 5, 5, 5, 5, 5, 5, 5, 5, 5, 5, 5, 5, 5, 5, 5, 5, 5, 6, 5, 5, 5, 5, 5, 5, 5, 5, 5, 5, 5, 5, 5, 5, 5, 5, 8, 5, 8, 8, 8, 5, 5, 5, 5, 5, 5, 5, 5, 5, 5, 5, 5, 5, 5, 8, 5, 0, 5, 5, 5, 5, 5, 5, 5, 5, 5, 5, 5, 5, 5, 5, 5, 5, 5, 5, 5, 8, 5, 5, 5, 5, 5, 5, 5, 5, 5, 5, 5, 5, 8, 5, 5, 5, 5, 8, 5, 8, 8, 8, 8, 8, 5, 8, 5, 8, 5, 5, 5, 5, 5, 5, 5, 5, 5, 5, 5, 5, 5, 5, 5, 5, 8, 5, 8, 5, 8, 5, 8, 5, 5, 8, 5, 5, 5, 5, 5, 5, 5, 5, 5, 5, 5, 5, 5], 3: [7, 8, 8, 8, 8, 8, 8, 8, 8, 8, 8, 8, 0, 8, 8, 8, 8, 8, 8, 8, 8, 8, 8, 8, 8, 8, 7, 7, 7, 8, 7, 8, 8, 7, 7, 8, 7, 7, 8, 8, 8, 7, 8, 7, 7, 7, 7, 7, 7, 7, 7, 7, 7, 4, 7, 7, 8, 4, 8, 8, 8, 8, 8, 8, 7, 7, 8, 8, 8, 8, 8, 8, 8, 8, 8, 8, 7, 7, 7, 7, 7, 7, 7, 7, 7, 8, 8, 8, 7, 7, 7, 7, 7, 7, 7, 7, 7, 7, 8, 7, 8, 7, 8, 7, 7, 4, 4, 8, 8, 8, 8, 8, 8, 4, 4, 0, 4, 7, 7, 8, 8, 0, 8, 8, 8, 8, 8, 8, 7, 8, 8, 8, 8, 7, 7, 8, 8, 8, 4, 7, 8, 7, 8, 7, 7, 7, 7, 7, 7, 7, 7, 7, 7, 7, 7, 8, 7, 8, 8, 8, 6, 6, 0, 0, 6, 8, 8, 8, 8, 8, 7, 6, 7, 0, 8, 6, 7, 6, 8, 8, 7, 1, 8], 4: [2, 2, 2, 2, 2, 2, 2, 2, 2, 2, 2, 2, 2, 2, 2, 2, 2, 2, 6, 2, 2, 6, 2, 2, 2, 2, 2, 2, 2, 2, 2, 2, 2, 2, 2, 2, 2, 2, 2, 2, 2, 2, 2, 2, 2, 2, 2, 2, 2, 2, 2, 2, 0, 2, 2, 2, 0, 6, 2, 2, 2, 2, 0, 0, 2, 2, 2, 2, 2, 2, 2, 0, 0, 2, 0, 2, 0, 3, 2, 2, 2, 2, 2, 2, 2, 2, 2, 2, 2, 2, 2, 2, 2, 2, 2, 2, 2, 2, 2, 2, 2, 2, 2, 2, 2, 2, 2, 2, 0, 2, 2, 2, 2, 2, 2, 2, 2, 2, 2, 2, 2, 2, 2, 2, 2, 2, 2, 2, 2, 2, 2, 2, 2, 2, 2, 2, 2, 2, 2, 2, 2, 2, 2, 2, 2, 2, 2, 2, 2, 2, 2, 2, 2, 2, 2, 2, 2, 2, 2, 0, 0, 0, 2, 2, 2, 0, 0, 2, 2, 2, 2, 2, 2, 2, 2, 2, 2, 2, 2, 2, 2], 5: [4, 1, 1, 1, 1, 1, 1, 1, 1, 1, 1, 1, 1, 1, 1, 1, 1, 1, 1, 1, 1, 1, 1, 1, 1, 1, 4, 1, 1, 1, 1, 4, 1, 1, 1, 4, 1, 4, 1, 1, 1, 1, 7, 1, 8, 1, 4, 1, 1, 1, 1, 1, 1, 4, 4, 1, 4, 4, 4, 1, 4, 4, 1, 1, 4, 1, 1, 1, 2, 1, 1, 1, 1, 1, 1, 1, 1, 1, 1, 1, 1, 1, 1, 1, 1, 1, 1, 1, 1, 1, 1, 1, 4, 4, 4, 4, 4, 4, 4, 4, 1, 4, 4, 4, 1, 1, 1, 1, 1, 1, 1, 1, 1, 1, 1, 1, 1, 1, 1, 1, 1, 1, 1, 1, 1, 1, 1, 1, 1, 1, 4, 1, 1, 1, 1, 1, 1, 1, 3, 1, 1, 3, 1, 1, 4, 4, 4, 4, 4, 4, 4, 1, 4, 4, 1, 1, 1, 1, 1, 1, 1, 1, 1, 1, 1, 1, 1, 1, 1, 1, 1, 2, 1, 1, 1, 1, 1, 2, 4, 1, 4, 4], 6: [3, 3, 3, 3, 3, 3, 3, 3, 3, 3, 6, 3, 3, 3, 3, 3, 3, 3, 3, 3, 3, 3, 3, 3, 3, 3, 3, 3, 3, 3, 3, 3, 3, 3, 3, 3, 3, 3, 3, 3, 3, 3, 3, 3, 3, 3, 3, 3, 3, 3, 6, 3, 3, 3, 3, 3, 3, 3, 3, 3, 3, 3, 3, 3, 3, 3, 3, 3, 3, 3, 3, 3, 3, 3, 3, 3, 3, 3, 9, 3, 3, 3, 3, 3, 3, 3, 3, 3, 3, 3, 3, 3, 3, 3, 3, 3, 3, 3, 3, 3, 3, 3, 3, 3, 3, 3, 3, 3, 3, 3, 3, 3, 3, 3, 3, 3, 3, 3, 3, 3, 3, 3, 3, 3, 3, 3, 3, 3, 3, 3, 3, 3, 3, 3, 3, 3, 3, 3, 3, 3, 3, 3, 3, 3, 3, 3, 3, 3, 3, 3, 3, 3, 3, 3, 3, 6, 3, 3, 3, 3, 3, 3, 3, 3, 3, 3, 3, 3, 3, 3, 3, 3, 3, 3, 3, 3, 3, 3, 3, 3, 3], 7: [0, 0, 2, 0, 0, 0, 0, 0, 0, 0, 0, 0, 0, 0, 0, 0, 0, 0, 0, 0, 0, 0, 0, 0, 0, 0, 0, 0, 0, 0, 0, 0, 0, 0, 0, 0, 0, 0, 0, 0, 0, 0, 0, 0, 0, 2, 0, 0, 0, 0, 0, 0, 0, 0, 0, 0, 0, 0, 0, 0, 0, 0, 0, 0, 0, 0, 0, 2, 2, 0, 0, 0, 0, 0, 0, 0, 0, 0, 0, 0, 0, 0, 0, 0, 0, 0, 0, 0, 0, 0, 0, 0, 0, 0, 0, 0, 0, 0, 0, 0, 0, 0, 0, 0, 0, 0, 0, 0, 0, 0, 0, 0, 0, 0, 0, 0, 0, 0, 0, 0, 0, 0, 0, 0, 0, 0, 0, 0, 0, 0, 0, 0, 0, 0, 0, 0, 0, 0, 0, 0, 0, 0, 0, 0, 0, 0, 0, 0, 0, 0, 0, 0, 0, 0, 6, 0, 0, 0, 6, 0, 0, 0, 0, 0, 0, 0, 0, 0, 0, 0, 0, 0, 0, 0, 0, 0, 0, 0, 0], 8: [7, 6, 6, 6, 6, 6, 6, 6, 6, 6, 6, 6, 6, 6, 6, 6, 6, 6, 7, 6, 7, 6, 6, 6, 7, 6, 7, 6, 6, 7, 7, 7, 7, 6, 7, 7, 7, 6, 7, 6, 9, 7, 7, 8, 7, 7, 7, 6, 6, 7, 7, 6, 6, 7, 6, 6, 7, 7, 6, 6, 7, 6, 6, 6, 7, 7, 7, 7, 7, 6, 7, 6, 6, 7, 6, 7, 6, 3, 2, 6, 7, 8, 8, 7, 5, 8, 8, 7, 6, 6, 7, 7, 7, 7, 7, 7, 7, 7, 7, 7, 7, 0, 6, 7, 7, 6, 6, 7, 7, 6, 5, 7, 6, 7, 7, 6, 6, 1, 1, 0, 1, 6, 5, 6, 6, 6, 6, 6, 6, 6, 6, 6, 6, 6, 6, 6, 6, 6, 6, 7, 7, 7, 7, 7, 2, 8, 8, 8, 8, 0, 0, 0, 6, 1, 0, 6, 6, 6, 6, 6, 0, 7, 6, 7, 7, 6, 6, 7, 6, 7, 6, 6, 6, 7], 9: [4, 4, 4, 4, 4, 4, 0, 4, 8, 4, 4, 4, 4, 4, 4, 4, 4, 4, 4, 4, 4, 4, 4, 4, 4, 0, 0, 4, 4, 4, 4, 0, 0, 0, 0, 2, 2, 0, 4, 4, 4, 4, 4, 4, 4, 4, 4, 4, 4, 4, 4, 4, 4, 4, 1, 4, 4, 4, 4, 4, 4, 4, 4, 4, 2, 2, 2, 2, 2, 2, 2, 2, 2, 2, 2, 2, 2, 4, 4, 4, 4, 4, 4, 4, 4, 4, 4, 4, 4, 4, 4, 4, 4, 4, 4, 4, 4, 4, 4, 4, 4, 4, 4, 4, 4, 4, 7, 4, 4, 4, 1, 4, 4, 7, 7, 4, 4, 4, 4, 4, 4, 4, 4, 4, 4, 4, 4, 4, 4, 4, 4, 4, 4, 4, 4, 4, 4, 4, 4, 4, 4, 4, 4, 4, 4, 4, 4, 4, 4, 4, 4, 4, 8, 4, 2, 8, 4, 2, 1, 1, 2, 4, 0, 4, 7, 1, 1, 4, 4, 4, 4, 4, 4, 4, 4, 4, 4, 8, 4, 4]}\n"
     ]
    }
   ],
   "source": [
    "K = [4, 6, 8, 10, 20]\n",
    "y_pred = {}\n",
    "\n",
    "for k in K:\n",
    "    # fitting the dataset to various values of k\n",
    "    MNIST_clf = K_Means(k)\n",
    "    MNIST_clf.fit(X)\n",
    "    \n",
    "    y_temp = {}\n",
    "    for class_ in range(10):\n",
    "            y_temp[class_] = []\n",
    "            for x in X_classified[class_]:\n",
    "                #capturing the predicted new cluster number for our classified dataset\n",
    "                y_temp[class_].append(MNIST_clf.predict(x))\n",
    "        \n",
    "    y_pred[k] = y_temp\n",
    "\n",
    "\n",
    "print(y_pred)"
   ]
  },
  {
   "cell_type": "code",
   "execution_count": 67,
   "metadata": {},
   "outputs": [
    {
     "data": {
      "text/plain": [
       "array([[  0,   0,   0,   0,   0,   0,   0, 176,   2,   0],\n",
       "       [  1,   0,   1,  56,  24,  98,   0,   0,   2,   0],\n",
       "       [  0,  13,  10,   3, 147,   1,   1,   1,   0,   1],\n",
       "       [  2,   8, 158,   0,   1,   1,   6,   0,   0,   7],\n",
       "       [  0,   0,   0,  43,   0,  10,   0,   0, 110,  18],\n",
       "       [136,   0,   1,   0,   0,   0,  40,   0,   5,   0],\n",
       "       [  0,   0,   0,   1,   0,   1,   0,   1, 178,   0],\n",
       "       [  0,   0,   0,   4,   0,   2,   0,   0,   0, 173],\n",
       "       [  5, 138,   0,   3,   2,  20,   3,   0,   1,   2],\n",
       "       [  5,   2,   3,  20,   0,   0, 142,   0,   0,   8]], dtype=int64)"
      ]
     },
     "execution_count": 67,
     "metadata": {},
     "output_type": "execute_result"
    }
   ],
   "source": [
    "from sklearn.metrics import confusion_matrix\n",
    "confusion_matrix(y, y_pred[10])"
   ]
  },
  {
   "cell_type": "code",
   "execution_count": 63,
   "metadata": {},
   "outputs": [],
   "source": [
    "# Here we can see that the new cluster number doesn't match the original clusters"
   ]
  },
  {
   "cell_type": "code",
   "execution_count": 39,
   "metadata": {},
   "outputs": [],
   "source": [
    "def class_freq(lst):\n",
    "    freq = {}\n",
    "    for elem in lst:\n",
    "        try:\n",
    "            freq[elem] += 1\n",
    "        except:\n",
    "            freq[elem] = 1\n",
    "    return freq"
   ]
  },
  {
   "cell_type": "code",
   "execution_count": 52,
   "metadata": {},
   "outputs": [
    {
     "name": "stdout",
     "output_type": "stream",
     "text": [
      "\n",
      " 4 Clusters\n",
      "0 {0: 173, 3: 3, 2: 2}\n",
      "1 {1: 117, 2: 57, 3: 8}\n",
      "2 {1: 155, 2: 7, 3: 14, 0: 1}\n",
      "3 {3: 167, 1: 14, 2: 2}\n",
      "4 {2: 155, 0: 23, 1: 3}\n",
      "5 {3: 84, 1: 82, 2: 12, 0: 4}\n",
      "6 {0: 177, 1: 2, 2: 2}\n",
      "7 {2: 125, 1: 54}\n",
      "8 {3: 48, 1: 97, 2: 28, 0: 1}\n",
      "9 {3: 147, 1: 3, 2: 30}\n",
      "\n",
      " 6 Clusters\n",
      "0 {1: 166, 2: 7, 3: 5}\n",
      "1 {4: 107, 3: 40, 5: 23, 2: 3, 1: 9}\n",
      "2 {4: 9, 5: 151, 3: 2, 1: 13, 0: 2}\n",
      "3 {1: 159, 5: 9, 0: 9, 4: 6}\n",
      "4 {3: 162, 4: 3, 2: 2, 0: 12, 5: 2}\n",
      "5 {1: 83, 5: 87, 0: 3, 3: 5, 2: 3, 4: 1}\n",
      "6 {2: 176, 4: 4, 1: 1}\n",
      "7 {0: 172, 3: 4, 4: 2, 5: 1}\n",
      "8 {1: 54, 4: 94, 2: 2, 3: 2, 5: 14, 0: 8}\n",
      "9 {1: 146, 0: 13, 3: 19, 5: 2}\n",
      "\n",
      " 8 Clusters\n",
      "0 {0: 177, 6: 1}\n",
      "1 {1: 131, 5: 23, 4: 25, 2: 2, 7: 1}\n",
      "2 {1: 10, 4: 151, 3: 3, 5: 12, 0: 1}\n",
      "3 {5: 162, 3: 9, 4: 3, 1: 8, 7: 1}\n",
      "4 {6: 169, 1: 2, 3: 10}\n",
      "5 {5: 40, 7: 138, 6: 2, 2: 2}\n",
      "6 {2: 176, 1: 4, 0: 1}\n",
      "7 {3: 177, 1: 2}\n",
      "8 {1: 105, 7: 5, 5: 50, 0: 1, 2: 1, 4: 4, 3: 8}\n",
      "9 {5: 153, 3: 13, 1: 4, 6: 6, 7: 4}\n",
      "\n",
      " 10 Clusters\n",
      "0 {9: 176, 2: 2}\n",
      "1 {6: 106, 2: 35, 8: 9, 5: 25, 3: 2, 1: 1, 4: 4}\n",
      "2 {6: 8, 5: 145, 0: 2, 2: 1, 8: 21}\n",
      "3 {7: 71, 8: 91, 0: 6, 4: 8, 6: 6, 1: 1}\n",
      "4 {2: 163, 6: 3, 0: 14, 3: 1}\n",
      "5 {4: 38, 1: 137, 7: 1, 8: 1, 2: 3, 3: 2}\n",
      "6 {3: 177, 6: 3, 9: 1}\n",
      "7 {0: 173, 2: 4, 6: 2}\n",
      "8 {7: 64, 6: 83, 9: 1, 8: 9, 3: 1, 2: 2, 5: 3, 0: 7, 1: 4}\n",
      "9 {4: 139, 0: 9, 8: 4, 2: 18, 1: 6, 7: 4}\n",
      "\n",
      " 20 Clusters\n",
      "0 {18: 175, 5: 1, 1: 1, 8: 1}\n",
      "1 {15: 97, 3: 54, 19: 3, 17: 24, 8: 3, 12: 1}\n",
      "2 {19: 11, 17: 52, 6: 108, 0: 3, 14: 1, 4: 1, 18: 1}\n",
      "3 {2: 147, 14: 11, 4: 4, 13: 11, 0: 4, 17: 1, 19: 2, 7: 1, 9: 2}\n",
      "4 {16: 69, 1: 77, 5: 28, 7: 1, 10: 3, 14: 3}\n",
      "5 {13: 13, 12: 71, 9: 95, 10: 1, 1: 1, 11: 1}\n",
      "6 {8: 91, 11: 88, 14: 1, 18: 1}\n",
      "7 {7: 86, 4: 77, 10: 15, 14: 1}\n",
      "8 {0: 60, 14: 69, 15: 14, 19: 21, 13: 1, 8: 1, 3: 2, 6: 2, 12: 2, 10: 1, 2: 1}\n",
      "9 {0: 18, 13: 124, 7: 1, 14: 3, 4: 3, 10: 23, 3: 3, 2: 3, 12: 2}\n"
     ]
    }
   ],
   "source": [
    "for cluster in K:\n",
    "    print(\"\\n\", cluster, \"Clusters\")\n",
    "    for class_ in range(10):\n",
    "        print(class_, class_freq(y_pred[cluster][class_]))"
   ]
  },
  {
   "cell_type": "code",
   "execution_count": 62,
   "metadata": {
    "scrolled": true
   },
   "outputs": [
    {
     "name": "stdout",
     "output_type": "stream",
     "text": [
      "Output Shape : ( 10 , 2 )\n",
      "\n",
      "+------------------+------------------+\n",
      "| Original Cluster | Assigned Cluster |\n",
      "+------------------+------------------+\n",
      "|        0         |        9         |\n",
      "|        1         |        6         |\n",
      "|        2         |        5         |\n",
      "|        3         |        8         |\n",
      "|        4         |        2         |\n",
      "|        5         |        1         |\n",
      "|        6         |        3         |\n",
      "|        7         |        0         |\n",
      "|        8         |        7         |\n",
      "|        9         |        4         |\n",
      "+------------------+------------------+\n"
     ]
    }
   ],
   "source": [
    "ass_X = [[0, 9],\n",
    "[1, 6],\n",
    "[2, 5],\n",
    "[3, 8],\n",
    "[4, 2],\n",
    "[5, 1],\n",
    "[6, 3],\n",
    "[7, 0],\n",
    "[8, 7],\n",
    "[9, 4]]\n",
    "print_table(ass_X, [\"Original Cluster\", \"Assigned Cluster\"])"
   ]
  },
  {
   "cell_type": "markdown",
   "metadata": {},
   "source": [
    " "
   ]
  },
  {
   "cell_type": "markdown",
   "metadata": {},
   "source": [
    " "
   ]
  },
  {
   "cell_type": "code",
   "execution_count": 61,
   "metadata": {},
   "outputs": [],
   "source": [
    "from prettytable import PrettyTable\n",
    "def print_table(val, cols, limit = 0):#limit = 0 : all outputs will be printed\n",
    "    x = PrettyTable()\n",
    "\n",
    "    x.field_names = cols\n",
    "    \n",
    "    count = 0\n",
    "    not_printed = 0\n",
    "    for i in val:\n",
    "        if type(i) == str:\n",
    "            i = [i]\n",
    "        if(count >= limit and limit != 0): #Dumping all the extra rows from the MySQLcusrsor\n",
    "            not_printed += 1\n",
    "            continue\n",
    "        x.add_row(i)\n",
    "        count += 1\n",
    "\n",
    "    print(\"Output Shape : (\", count + not_printed,\",\", len(cols), \")\\n\")\n",
    "    print(x)"
   ]
  }
 ],
 "metadata": {
  "kernelspec": {
   "display_name": "Python 3 (ipykernel)",
   "language": "python",
   "name": "python3"
  },
  "language_info": {
   "codemirror_mode": {
    "name": "ipython",
    "version": 3
   },
   "file_extension": ".py",
   "mimetype": "text/x-python",
   "name": "python",
   "nbconvert_exporter": "python",
   "pygments_lexer": "ipython3",
   "version": "3.9.13"
  }
 },
 "nbformat": 4,
 "nbformat_minor": 2
}
